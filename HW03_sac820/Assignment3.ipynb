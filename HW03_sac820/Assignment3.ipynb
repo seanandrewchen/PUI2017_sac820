{
 "cells": [
  {
   "cell_type": "markdown",
   "metadata": {
    "toc": true
   },
   "source": [
    "<h1>Table of Contents<span class=\"tocSkip\"></span></h1>\n",
    "<div class=\"toc\" style=\"margin-top: 1em;\"><ul class=\"toc-item\"></ul></div>"
   ]
  },
  {
   "cell_type": "markdown",
   "metadata": {},
   "source": [
    "$$Z = \\dfrac{\\mu_{population} - \\mu_{sample}}{\\frac{\\sigma}{\\sqrt{N}}}$$"
   ]
  },
  {
   "cell_type": "markdown",
   "metadata": {},
   "source": [
    "$$H_{0}: \\mu = \\mu_{0}$$\n",
    "$$H_{a}: \\mu \\neq \\mu_{0}$$\n",
    "\n",
    "$$H_{a}: \\mu > \\mu_{0} \\textrm{ or } H_{a}: \\mu < \\mu_{0}$$\n",
    "\n",
    "\n",
    "<center>Our null hypothesis is that the time to do X is the same as time to do Y.<center>\n",
    "<center>Our alternative hypothesis is that the time to do X is not the same as the time to do Y.<center>"
   ]
  },
  {
   "cell_type": "markdown",
   "metadata": {},
   "source": [
    "$$\\alpha = .05$$\n",
    "\n",
    "<center>Our $\\alpha$ is 0.05, meaning we are looking for a 95% confidence interval.<center>"
   ]
  },
  {
   "cell_type": "code",
   "execution_count": 2,
   "metadata": {},
   "outputs": [],
   "source": [
    "import os\n",
    "import pandas as pd\n",
    "import numpy as np"
   ]
  },
  {
   "cell_type": "code",
   "execution_count": 14,
   "metadata": {},
   "outputs": [
    {
     "data": {
      "text/html": [
       "<div>\n",
       "<style>\n",
       "    .dataframe thead tr:only-child th {\n",
       "        text-align: right;\n",
       "    }\n",
       "\n",
       "    .dataframe thead th {\n",
       "        text-align: left;\n",
       "    }\n",
       "\n",
       "    .dataframe tbody tr th {\n",
       "        vertical-align: top;\n",
       "    }\n",
       "</style>\n",
       "<table border=\"1\" class=\"dataframe\">\n",
       "  <thead>\n",
       "    <tr style=\"text-align: right;\">\n",
       "      <th></th>\n",
       "      <th>31.62223931</th>\n",
       "    </tr>\n",
       "  </thead>\n",
       "  <tbody>\n",
       "    <tr>\n",
       "      <th>0</th>\n",
       "      <td>32.821376</td>\n",
       "    </tr>\n",
       "    <tr>\n",
       "      <th>1</th>\n",
       "      <td>30.229101</td>\n",
       "    </tr>\n",
       "    <tr>\n",
       "      <th>2</th>\n",
       "      <td>31.413766</td>\n",
       "    </tr>\n",
       "    <tr>\n",
       "      <th>3</th>\n",
       "      <td>39.010550</td>\n",
       "    </tr>\n",
       "    <tr>\n",
       "      <th>4</th>\n",
       "      <td>34.822079</td>\n",
       "    </tr>\n",
       "  </tbody>\n",
       "</table>\n",
       "</div>"
      ],
      "text/plain": [
       "   31.62223931\n",
       "0    32.821376\n",
       "1    30.229101\n",
       "2    31.413766\n",
       "3    39.010550\n",
       "4    34.822079"
      ]
     },
     "execution_count": 14,
     "metadata": {},
     "output_type": "execute_result"
    }
   ],
   "source": [
    "os.system(\"curl -O https://raw.githubusercontent.com/fedhere/PUI2017_fb55/master/Lab3_fb55/times.txt\")\n",
    "data = pd.read_csv(\"times.txt\")\n",
    "data.head()"
   ]
  },
  {
   "cell_type": "code",
   "execution_count": 26,
   "metadata": {},
   "outputs": [
    {
     "name": "stdout",
     "output_type": "stream",
     "text": [
      "Significant. Reject the null hypothesis.\n",
      "P value = [-13.24728135]\n",
      "P value < 0.05\n"
     ]
    }
   ],
   "source": [
    "mu_1 = np.mean(data).tolist()\n",
    "std = np.std(data).tolist()\n",
    "\n",
    "mu_2 = 25\n",
    "\n",
    "\n",
    "se = std / np.sqrt(len(data))\n",
    "z =  (mu_2 - mu_1[0]) / se\n",
    "\n",
    "alpha = 0.05\n",
    "\n",
    "if z >= alpha:\n",
    "    print(\"Insignificant. Do not reject the null hypothesis.\")\n",
    "    print(\"P value = \" + str(z))\n",
    "    print(\"P value > 0.05\")\n",
    "else:\n",
    "    print(\"Significant. Reject the null hypothesis.\")\n",
    "    print(\"P value = \" + str(z))\n",
    "    print(\"P value < 0.05\")"
   ]
  },
  {
   "cell_type": "code",
   "execution_count": null,
   "metadata": {},
   "outputs": [],
   "source": []
  }
 ],
 "metadata": {
  "kernelspec": {
   "display_name": "Python 2",
   "language": "python",
   "name": "python2"
  },
  "language_info": {
   "codemirror_mode": {
    "name": "ipython",
    "version": 2
   },
   "file_extension": ".py",
   "mimetype": "text/x-python",
   "name": "python",
   "nbconvert_exporter": "python",
   "pygments_lexer": "ipython2",
   "version": "2.7.12"
  },
  "toc": {
   "nav_menu": {},
   "number_sections": true,
   "sideBar": true,
   "skip_h1_title": true,
   "toc_cell": true,
   "toc_position": {},
   "toc_section_display": "block",
   "toc_window_display": true
  }
 },
 "nbformat": 4,
 "nbformat_minor": 2
}
