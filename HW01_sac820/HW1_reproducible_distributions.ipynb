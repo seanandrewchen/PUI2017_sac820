{
 "cells": [
  {
   "cell_type": "markdown",
   "metadata": {
    "toc": true
   },
   "source": [
    "<h1>Table of Contents<span class=\"tocSkip\"></span></h1>\n",
    "<div class=\"toc\" style=\"margin-top: 1em;\"><ul class=\"toc-item\"><li><span><a href=\"#THIS-IS-THE-MOST-IMPORTANT-PIECE-OF-THIS-CODE!\" data-toc-modified-id=\"THIS-IS-THE-MOST-IMPORTANT-PIECE-OF-THIS-CODE!-1\"><span class=\"toc-item-num\">1&nbsp;&nbsp;</span>THIS IS THE MOST IMPORTANT PIECE OF THIS CODE!</a></span><ul class=\"toc-item\"><li><span><a href=\"#give-numpy-as-seed-for-this-code-to-be-reproducible\" data-toc-modified-id=\"give-numpy-as-seed-for-this-code-to-be-reproducible-1.1\"><span class=\"toc-item-num\">1.1&nbsp;&nbsp;</span>give numpy as seed for this code to be reproducible</a></span></li><li><span><a href=\"#1.-Generate-random-distributions.-use-the-function\" data-toc-modified-id=\"1.-Generate-random-distributions.-use-the-function-1.2\"><span class=\"toc-item-num\">1.2&nbsp;&nbsp;</span>1. Generate random distributions. use the function</a></span></li><li><span><a href=\"#to-generate-100-2-dimensional-random-datapoints-in-a-gaussian-distribution\" data-toc-modified-id=\"to-generate-100-2-dimensional-random-datapoints-in-a-gaussian-distribution-1.3\"><span class=\"toc-item-num\">1.3&nbsp;&nbsp;</span>to generate 100 2-dimensional random datapoints in a gaussian distribution</a></span><ul class=\"toc-item\"><li><span><a href=\"#if-you-did-this-correctly-the-shape-of-ReprRand-will-be-(2,-100)\" data-toc-modified-id=\"if-you-did-this-correctly-the-shape-of-ReprRand-will-be-(2,-100)-1.3.1\"><span class=\"toc-item-num\">1.3.1&nbsp;&nbsp;</span>if you did this correctly the shape of ReprRand will be (2, 100)</a></span></li></ul></li></ul></li><li><span><a href=\"#2.-use-the-same-function-to-generate-50-more-random-2x100-numpy-arrays-and-store-them-in-ReprRandAll,-all-with-different-mean.\" data-toc-modified-id=\"2.-use-the-same-function-to-generate-50-more-random-2x100-numpy-arrays-and-store-them-in-ReprRandAll,-all-with-different-mean.-2\"><span class=\"toc-item-num\">2&nbsp;&nbsp;</span>2. use the same function to generate 50 more random 2x100 numpy arrays and store them in ReprRandAll, all with different mean.</a></span></li><li><span><a href=\"#3.-now-plot-them:\" data-toc-modified-id=\"3.-now-plot-them:-3\"><span class=\"toc-item-num\">3&nbsp;&nbsp;</span>3. now plot them:</a></span></li><li><span><a href=\"#Figure-1:\" data-toc-modified-id=\"Figure-1:-4\"><span class=\"toc-item-num\">4&nbsp;&nbsp;</span>Figure 1:</a></span></li><li><span><a href=\"#Challenge\" data-toc-modified-id=\"Challenge-5\"><span class=\"toc-item-num\">5&nbsp;&nbsp;</span>Challenge</a></span></li><li><span><a href=\"#Figure-2:\" data-toc-modified-id=\"Figure-2:-6\"><span class=\"toc-item-num\">6&nbsp;&nbsp;</span>Figure 2:</a></span></li></ul></div>"
   ]
  },
  {
   "cell_type": "code",
   "execution_count": 1,
   "metadata": {},
   "outputs": [],
   "source": [
    "from __future__ import print_function\n",
    "__author__ = \"Federica B. Bianco, CUSP NYU 2016\""
   ]
  },
  {
   "cell_type": "markdown",
   "metadata": {},
   "source": [
    "# Create a <i>reproducible research</i> chunk of code\n",
    "\n",
    "That means we want the reader to be able to reproduce every step of the work we do. \n",
    "\n",
    "If our work includes the use of stochastic processes and random variables that gets tricky: how do we assure the random draw gives the same number to the user that it gave to me? That is not random! \n",
    "\n",
    "That becomes possible because computers are unable to produce truly random numbers. When we ask a computer to generate a random number, it will in fact generate a \"pseudo random\" number. The number will be random in the sanse that it will be some number between, for example, 0 and 1 if we ask for a **uniform random distribution** or a number near 0 if we aks for a **Gaussian distribution with mean 0**. <i> But the sequence of pseudo-random numbers that a computer generates will depend on its **seed**: if you know the seed you know all the numbers that are \"randomly\" drawn</i>.  \n",
    "\n",
    "You can read more about pseudorandom number generation in this wikipedia article https://en.wikipedia.org/wiki/Pseudorandom_number_generator\n",
    "\n",
    "Fill in the empty cells below with code, as directed."
   ]
  },
  {
   "cell_type": "code",
   "execution_count": 2,
   "metadata": {},
   "outputs": [],
   "source": [
    "import os\n",
    "import sys\n",
    "\n",
    "# you can use the numpy library for random number generation: \n",
    "# http://docs.scipy.org/doc/numpy/reference/routines.random.html\n",
    "\n",
    "import numpy as np"
   ]
  },
  {
   "cell_type": "markdown",
   "metadata": {},
   "source": [
    "## THIS IS THE MOST IMPORTANT PIECE OF THIS CODE! \n",
    "### give numpy as seed for this code to be reproducible \n",
    "(no points if this is wrong)\n",
    "\n",
    "http://docs.scipy.org/doc/numpy/reference/generated/numpy.random.seed.html"
   ]
  },
  {
   "cell_type": "code",
   "execution_count": 3,
   "metadata": {},
   "outputs": [],
   "source": [
    "np.random.seed(42)"
   ]
  },
  {
   "cell_type": "markdown",
   "metadata": {},
   "source": [
    "### 1. Generate random distributions. use the function \n",
    "http://docs.scipy.org/doc/numpy/reference/generated/numpy.random.randn.html\n",
    "### to generate 100 2-dimensional random datapoints in a gaussian distribution \n",
    "\n",
    "call the array ReprRand\n"
   ]
  },
  {
   "cell_type": "code",
   "execution_count": 4,
   "metadata": {},
   "outputs": [
    {
     "data": {
      "text/plain": [
       "array([[ 0.37454012,  0.95071431,  0.73199394,  0.59865848,  0.15601864,\n",
       "         0.15599452,  0.05808361,  0.86617615,  0.60111501,  0.70807258,\n",
       "         0.02058449,  0.96990985,  0.83244264,  0.21233911,  0.18182497,\n",
       "         0.18340451,  0.30424224,  0.52475643,  0.43194502,  0.29122914,\n",
       "         0.61185289,  0.13949386,  0.29214465,  0.36636184,  0.45606998,\n",
       "         0.78517596,  0.19967378,  0.51423444,  0.59241457,  0.04645041,\n",
       "         0.60754485,  0.17052412,  0.06505159,  0.94888554,  0.96563203,\n",
       "         0.80839735,  0.30461377,  0.09767211,  0.68423303,  0.44015249,\n",
       "         0.12203823,  0.49517691,  0.03438852,  0.9093204 ,  0.25877998,\n",
       "         0.66252228,  0.31171108,  0.52006802,  0.54671028,  0.18485446,\n",
       "         0.96958463,  0.77513282,  0.93949894,  0.89482735,  0.59789998,\n",
       "         0.92187424,  0.0884925 ,  0.19598286,  0.04522729,  0.32533033,\n",
       "         0.38867729,  0.27134903,  0.82873751,  0.35675333,  0.28093451,\n",
       "         0.54269608,  0.14092422,  0.80219698,  0.07455064,  0.98688694,\n",
       "         0.77224477,  0.19871568,  0.00552212,  0.81546143,  0.70685734,\n",
       "         0.72900717,  0.77127035,  0.07404465,  0.35846573,  0.11586906,\n",
       "         0.86310343,  0.62329813,  0.33089802,  0.06355835,  0.31098232,\n",
       "         0.32518332,  0.72960618,  0.63755747,  0.88721274,  0.47221493,\n",
       "         0.11959425,  0.71324479,  0.76078505,  0.5612772 ,  0.77096718,\n",
       "         0.4937956 ,  0.52273283,  0.42754102,  0.02541913,  0.10789143],\n",
       "       [ 0.03142919,  0.63641041,  0.31435598,  0.50857069,  0.90756647,\n",
       "         0.24929223,  0.41038292,  0.75555114,  0.22879817,  0.07697991,\n",
       "         0.28975145,  0.16122129,  0.92969765,  0.80812038,  0.63340376,\n",
       "         0.87146059,  0.80367208,  0.18657006,  0.892559  ,  0.53934224,\n",
       "         0.80744016,  0.8960913 ,  0.31800347,  0.11005192,  0.22793516,\n",
       "         0.42710779,  0.81801477,  0.86073058,  0.00695213,  0.5107473 ,\n",
       "         0.417411  ,  0.22210781,  0.11986537,  0.33761517,  0.9429097 ,\n",
       "         0.32320293,  0.51879062,  0.70301896,  0.3636296 ,  0.97178208,\n",
       "         0.96244729,  0.2517823 ,  0.49724851,  0.30087831,  0.28484049,\n",
       "         0.03688695,  0.60956433,  0.50267902,  0.05147875,  0.27864646,\n",
       "         0.90826589,  0.23956189,  0.14489487,  0.48945276,  0.98565045,\n",
       "         0.24205527,  0.67213555,  0.76161962,  0.23763754,  0.72821635,\n",
       "         0.36778313,  0.63230583,  0.63352971,  0.53577468,  0.09028977,\n",
       "         0.8353025 ,  0.32078006,  0.18651851,  0.04077514,  0.59089294,\n",
       "         0.67756436,  0.01658783,  0.51209306,  0.22649578,  0.64517279,\n",
       "         0.17436643,  0.69093774,  0.38673535,  0.93672999,  0.13752094,\n",
       "         0.34106635,  0.11347352,  0.92469362,  0.87733935,  0.25794163,\n",
       "         0.65998405,  0.8172222 ,  0.55520081,  0.52965058,  0.24185229,\n",
       "         0.09310277,  0.89721576,  0.90041806,  0.63310146,  0.33902979,\n",
       "         0.34920957,  0.72595568,  0.89711026,  0.88708642,  0.77987555]])"
      ]
     },
     "execution_count": 4,
     "metadata": {},
     "output_type": "execute_result"
    }
   ],
   "source": [
    "ReprRand = np.random.rand(2, 100)\n",
    "\n",
    "ReprRand"
   ]
  },
  {
   "cell_type": "markdown",
   "metadata": {},
   "source": [
    "#### if you did this correctly the shape of ReprRand will be (2, 100)\n"
   ]
  },
  {
   "cell_type": "code",
   "execution_count": 5,
   "metadata": {},
   "outputs": [
    {
     "data": {
      "text/plain": [
       "(2, 100)"
      ]
     },
     "execution_count": 5,
     "metadata": {},
     "output_type": "execute_result"
    }
   ],
   "source": [
    "# run this cell\n",
    "ReprRand.shape"
   ]
  },
  {
   "cell_type": "markdown",
   "metadata": {},
   "source": [
    "## 2. use the same function to generate 50 more random 2x100 numpy arrays and store them in ReprRandAll, all with different mean.\n",
    "\n",
    "np.random.randn creates a distribution with mean 0 and standard deviation 1 by default.\n",
    "\n",
    "To obtain a gaussian distribution with a mean different than 1 using np.random.randn you must add your new mean (it is explained in the function documentation for which I already gave you the link)\n",
    "\n",
    "If you want to change the standard deviation (sigma) as well you multiply the distribution by the new sigma.\n",
    "\n",
    "You can do it in a for loop. The first line of code I included generates an array of zeros that you can fill in with your new numbers. \n",
    "\n",
    "\n"
   ]
  },
  {
   "cell_type": "code",
   "execution_count": 44,
   "metadata": {},
   "outputs": [
    {
     "data": {
      "text/plain": [
       "array([[[ 227.68774051,  203.55200442,  213.61811614, ...,  204.91515258,\n",
       "          216.5958564 ,  201.39389403],\n",
       "        [ 219.14248254,  202.48036512,  236.4665397 , ...,  220.42217213,\n",
       "          223.8574757 ,  232.22956277]],\n",
       "\n",
       "       [[ 201.13148997,  234.88249543,  215.25022666, ...,  222.29002314,\n",
       "          212.46753056,  220.29391353],\n",
       "        [ 230.60992554,  211.71559003,  207.43084532, ...,  216.31008392,\n",
       "          211.17567773,  211.71136372]],\n",
       "\n",
       "       [[ 213.93068363,  223.06705156,  233.22816559, ...,  230.33988048,\n",
       "          235.52623003,  217.54638296],\n",
       "        [ 214.11798022,  204.45818886,  210.82893857, ...,  235.58969311,\n",
       "          227.70132081,  229.5691951 ]],\n",
       "\n",
       "       ..., \n",
       "       [[ 236.96137068,  230.0037475 ,  212.33802148, ...,  233.25913687,\n",
       "          236.75776553,  233.48897133],\n",
       "        [ 225.35478118,  218.60707119,  239.91871642, ...,  221.21003908,\n",
       "          204.12577117,  220.13274916]],\n",
       "\n",
       "       [[ 205.13279485,  230.98891653,  224.63249728, ...,  214.46445804,\n",
       "          231.02131388,  213.48924331],\n",
       "        [ 229.03287681,  219.64980727,  231.92170237, ...,  236.02455959,\n",
       "          206.22557427,  203.53378722]],\n",
       "\n",
       "       [[ 239.03697211,  216.5027503 ,  229.81543982, ...,  230.59006688,\n",
       "          218.06091869,  207.48077851],\n",
       "        [ 201.55891543,  214.85806046,  209.40592506, ...,  239.95723348,\n",
       "          213.48640056,  203.49206465]]])"
      ]
     },
     "execution_count": 44,
     "metadata": {},
     "output_type": "execute_result"
    }
   ],
   "source": [
    "ReprRandAll = np.zeros((50, 2, 100))\n",
    "for i in range(50):\n",
    "    #For a Gaussian distribution N(sigma, mu) where sigma is the standard deviation and mu is the mean\n",
    "    sigma = 40\n",
    "    mu = 200\n",
    "    ReprRandAll[[i]] = sigma * np.random.rand(2, 100) + mu\n",
    "ReprRandAll"
   ]
  },
  {
   "cell_type": "code",
   "execution_count": 45,
   "metadata": {},
   "outputs": [
    {
     "data": {
      "text/plain": [
       "(50, 2, 100)"
      ]
     },
     "execution_count": 45,
     "metadata": {},
     "output_type": "execute_result"
    }
   ],
   "source": [
    "# run this cell\n",
    "ReprRandAll.shape"
   ]
  },
  {
   "cell_type": "markdown",
   "metadata": {},
   "source": [
    "## 3. now plot them: \n",
    "\n",
    "you can use the matplotlib library, and the function scatter(), but that would plot everything in the same color unless you ask it not to. For convenience, let's use the function plot() which by default plots lines, and tell it to plot points (in addition plot is actually more efficient, so if you have a large dataset you may want to consider using plot with points for it anyways)\n",
    "\n",
    "https://scipy-lectures.github.io/intro/matplotlib/matplotlib.html#scatter-plots\n",
    "\n",
    "http://matplotlib.org/users/pyplot_tutorial.html\n"
   ]
  },
  {
   "cell_type": "code",
   "execution_count": 46,
   "metadata": {},
   "outputs": [
    {
     "name": "stdout",
     "output_type": "stream",
     "text": [
      "Populating the interactive namespace from numpy and matplotlib\n"
     ]
    },
    {
     "data": {
      "image/png": "[encoded data removed]",
      "text/plain": [
       "<matplotlib.figure.Figure at 0x10585c7f0>"
      ]
     },
     "metadata": {},
     "output_type": "display_data"
    }
   ],
   "source": [
    "import pylab as pl\n",
    "from matplotlib import pyplot as plt\n",
    "%pylab inline\n",
    "%matplotlib inline\n",
    "# the last line of code makes the plot show up within the notebook. \n",
    "# Always include it so that your homework notebooks are rendered and we can see\n",
    "# what you wanted your results to be. \n",
    "\n",
    "plt.plot(ReprRandAll[:,0,:], ReprRandAll[:,1,:], 'ro')\n",
    "plt.ylabel('some numbers')\n",
    "plt.xlabel('some numbers')\n",
    "plt.show()"
   ]
  },
  {
   "cell_type": "markdown",
   "metadata": {},
   "source": [
    "Always add a caption to each of your homework figures. \n",
    "And remember to give your labels some names! \n",
    "This is a general rule. Without the caption or axis labels this portion of the HW will not get points. Make sure the font in the labels is large enough to be readable.  \n",
    "\n",
    "## Figure 1: \n",
    "\n",
    "Plot of 50 pseudorandomly generated pairs of values with mean 200 and standard deviation 40"
   ]
  },
  {
   "cell_type": "markdown",
   "metadata": {},
   "source": [
    "## Challenge\n",
    "\n",
    "It is easier to give the same mean and standard deviation to each dimension. Can you give two different values for the mean along the x- and the mean along the y- axis for each of the 50 distributions if you have not done so? If you are an experienced coder, can you do it in a single line?\n",
    "\n",
    "\n"
   ]
  },
  {
   "cell_type": "code",
   "execution_count": 68,
   "metadata": {},
   "outputs": [
    {
     "data": {
      "text/plain": [
       "array([[[ 2091.13842718,  2052.98430051,  2004.97880594, ...,\n",
       "          2000.17927021,  2083.01484106,  2063.57618576],\n",
       "        [  143.61927567,   143.52453917,   127.81058928, ...,\n",
       "           130.43736896,   126.3958203 ,   123.18587768]],\n",
       "\n",
       "       [[ 2070.00617777,  2076.79999165,  2117.62517091, ...,\n",
       "          2058.86997911,  2022.90284386,  2024.59730705],\n",
       "        [  135.66241613,   143.97202361,   143.6647533 , ...,\n",
       "           125.39711498,   144.90662004,   138.00418871]],\n",
       "\n",
       "       [[ 2083.60166994,  2032.00870925,  2007.24527537, ...,\n",
       "          2104.61762595,  2087.28363504,  2104.96866591],\n",
       "        [  141.34973123,   143.55322735,   138.63116937, ...,\n",
       "           140.36604502,   132.45723188,   123.2071733 ]],\n",
       "\n",
       "       ..., \n",
       "       [[ 2063.06963453,  2096.01907718,  2123.48633969, ...,\n",
       "          2040.06770976,  2020.23643864,  2009.23490884],\n",
       "        [  133.56394123,   143.81612124,   138.34524483, ...,\n",
       "           126.95270179,   132.56242563,   124.27834702]],\n",
       "\n",
       "       [[ 2065.27301025,  2059.5956659 ,  2097.36096823, ...,\n",
       "          2051.76063718,  2118.97634135,  2113.36317839],\n",
       "        [  146.11613965,   126.82032943,   127.49617373, ...,\n",
       "           138.7891062 ,   125.9720121 ,   143.56451743]],\n",
       "\n",
       "       [[ 2120.08471179,  2047.85682689,  2066.75281167, ...,\n",
       "          2082.16116753,  2077.43379763,  2070.44839572],\n",
       "        [  134.50036062,   141.12398403,   139.43193665, ...,\n",
       "           124.58087065,   145.90415928,   129.16779185]]])"
      ]
     },
     "execution_count": 68,
     "metadata": {},
     "output_type": "execute_result"
    }
   ],
   "source": [
    "ReprRandAllDifferentMeans = np.zeros((50, 2, 100))\n",
    "for i in range(50):\n",
    "    #For a Gaussian distribution N(sigma^2, mu) where sigma is the standard deviation and mu is the mean\n",
    "    sigma_1 = 123.5\n",
    "    sigma_2 = 23.59\n",
    "    mu_1 = 2000\n",
    "    mu_2 = 123\n",
    "    ReprRandAllDifferentMeans[[i],[0]] = sigma_1 * np.random.rand(1, 100) + mu_1\n",
    "    ReprRandAllDifferentMeans[[i],[1]] = sigma_2 * np.random.rand(1, 100) + mu_2\n",
    "ReprRandAllDifferentMeans"
   ]
  },
  {
   "cell_type": "code",
   "execution_count": 69,
   "metadata": {},
   "outputs": [
    {
     "name": "stdout",
     "output_type": "stream",
     "text": [
      "Populating the interactive namespace from numpy and matplotlib\n"
     ]
    },
    {
     "data": {
      "image/png": "[encoded data removed]",
      "text/plain": [
       "<matplotlib.figure.Figure at 0x10869d438>"
      ]
     },
     "metadata": {},
     "output_type": "display_data"
    }
   ],
   "source": [
    "import pylab as pl\n",
    "from matplotlib import pyplot as plt\n",
    "%pylab inline\n",
    "%matplotlib inline\n",
    "# the last line of code makes the plot show up within the notebook. \n",
    "# Always include it so that your homework notebooks are rendered and we can see\n",
    "# what you wanted your results to be. \n",
    "\n",
    "plt.plot(ReprRandAllDifferentMeans[:,0,:], ReprRandAllDifferentMeans[:,1,:], 'ro')\n",
    "plt.ylabel('some numbers')\n",
    "plt.xlabel('some numbers')\n",
    "plt.show()"
   ]
  },
  {
   "cell_type": "markdown",
   "metadata": {},
   "source": [
    "## Figure 2: \n",
    "\n",
    "Plot of 50 pseudorandomly generated pairs of values where the x axis has mean 2000 and std 123.5 and y axis has mean 123 and std 23.59"
   ]
  },
  {
   "cell_type": "code",
   "execution_count": null,
   "metadata": {},
   "outputs": [],
   "source": []
  }
 ],
 "metadata": {
  "anaconda-cloud": {},
  "kernelspec": {
   "display_name": "Python 3",
   "language": "python",
   "name": "python3"
  },
  "language_info": {
   "codemirror_mode": {
    "name": "ipython",
    "version": 3
   },
   "file_extension": ".py",
   "mimetype": "text/x-python",
   "name": "python",
   "nbconvert_exporter": "python",
   "pygments_lexer": "ipython3",
   "version": "3.6.3"
  },
  "toc": {
   "nav_menu": {},
   "number_sections": true,
   "sideBar": true,
   "skip_h1_title": true,
   "toc_cell": true,
   "toc_position": {
    "height": "728px",
    "left": "0px",
    "right": "1177px",
    "top": "52px",
    "width": "212px"
   },
   "toc_section_display": "block",
   "toc_window_display": true
  }
 },
 "nbformat": 4,
 "nbformat_minor": 1
}
