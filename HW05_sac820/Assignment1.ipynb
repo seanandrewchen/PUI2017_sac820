{
 "cells": [
  {
   "cell_type": "markdown",
   "metadata": {
    "toc": true
   },
   "source": [
    "<h1>Table of Contents<span class=\"tocSkip\"></span></h1>\n",
    "<div class=\"toc\" style=\"margin-top: 1em;\"><ul class=\"toc-item\"><li><span><a href=\"#Setup-Notebook.-\" data-toc-modified-id=\"Setup-Notebook.--1\"><span class=\"toc-item-num\">1&nbsp;&nbsp;</span>Setup Notebook. <a class=\"anchor\" id=\"part-0\"></a></a></span></li><li><span><a href=\"#Create-one-sample-from-$\\chi^2$-Distribution-to-test-it-out.-\" data-toc-modified-id=\"Create-one-sample-from-$\\chi^2$-Distribution-to-test-it-out.--2\"><span class=\"toc-item-num\">2&nbsp;&nbsp;</span>Create one sample from $\\chi^2$ Distribution to test it out. <a class=\"anchor\" id=\"part-1\"></a></a></span><ul class=\"toc-item\"><li><span><a href=\"#Seed-the-pseudo-random-number-generator-for-reproducibility.\" data-toc-modified-id=\"Seed-the-pseudo-random-number-generator-for-reproducibility.-2.1\"><span class=\"toc-item-num\">2.1&nbsp;&nbsp;</span>Seed the pseudo-random number generator for reproducibility.</a></span></li><li><span><a href=\"#Create-a-sample-from-a-$\\chi^2$-distribution.\" data-toc-modified-id=\"Create-a-sample-from-a-$\\chi^2$-distribution.-2.2\"><span class=\"toc-item-num\">2.2&nbsp;&nbsp;</span>Create a sample from a $\\chi^2$ distribution.</a></span></li><li><span><a href=\"#Calculate-and-print-the-mean-and-standard-deviation.\" data-toc-modified-id=\"Calculate-and-print-the-mean-and-standard-deviation.-2.3\"><span class=\"toc-item-num\">2.3&nbsp;&nbsp;</span>Calculate and print the mean and standard deviation.</a></span></li><li><span><a href=\"#Plot-a-histogram-to-see-whether-or-not-it-looks-like-a-$\\chi^2$-distribution.\" data-toc-modified-id=\"Plot-a-histogram-to-see-whether-or-not-it-looks-like-a-$\\chi^2$-distribution.-2.4\"><span class=\"toc-item-num\">2.4&nbsp;&nbsp;</span>Plot a histogram to see whether or not it looks like a $\\chi^2$ distribution.</a></span></li></ul></li><li><span><a href=\"#Create-100-samples-from-Chi-Squared-Distribution.-\" data-toc-modified-id=\"Create-100-samples-from-Chi-Squared-Distribution.--3\"><span class=\"toc-item-num\">3&nbsp;&nbsp;</span>Create 100 samples from Chi Squared Distribution. <a class=\"anchor\" id=\"part-2\"></a></a></span><ul class=\"toc-item\"><li><span><a href=\"#Define-an-empty-numpy-array-of-dimensions-(100,-1000)-to-fill-with-the-samples.\" data-toc-modified-id=\"Define-an-empty-numpy-array-of-dimensions-(100,-1000)-to-fill-with-the-samples.-3.1\"><span class=\"toc-item-num\">3.1&nbsp;&nbsp;</span>Define an empty numpy array of dimensions (100, 1000) to fill with the samples.</a></span></li><li><span><a href=\"#Make-100-sample-distributions-each-with-a-sample-size-of-1,000.\" data-toc-modified-id=\"Make-100-sample-distributions-each-with-a-sample-size-of-1,000.-3.2\"><span class=\"toc-item-num\">3.2&nbsp;&nbsp;</span>Make 100 sample distributions each with a sample size of 1,000.</a></span></li><li><span><a href=\"#Plot-all-the-sample-distributions.\" data-toc-modified-id=\"Plot-all-the-sample-distributions.-3.3\"><span class=\"toc-item-num\">3.3&nbsp;&nbsp;</span>Plot all the sample distributions.</a></span></li><li><span><a href=\"#Plot-one-of-the-samples.\" data-toc-modified-id=\"Plot-one-of-the-samples.-3.4\"><span class=\"toc-item-num\">3.4&nbsp;&nbsp;</span>Plot one of the samples.</a></span></li></ul></li><li><span><a href=\"#Calculate-the-mean-for-each-sample.-\" data-toc-modified-id=\"Calculate-the-mean-for-each-sample.--4\"><span class=\"toc-item-num\">4&nbsp;&nbsp;</span>Calculate the mean for each sample. <a class=\"anchor\" id=\"part-3\"></a></a></span><ul class=\"toc-item\"><li><span><a href=\"#Calculate-the-mean-for-each-of-the-100-distributions.\" data-toc-modified-id=\"Calculate-the-mean-for-each-of-the-100-distributions.-4.1\"><span class=\"toc-item-num\">4.1&nbsp;&nbsp;</span>Calculate the mean for each of the 100 distributions.</a></span></li><li><span><a href=\"#Plot-the-histogram-of-the-sample-means.\" data-toc-modified-id=\"Plot-the-histogram-of-the-sample-means.-4.2\"><span class=\"toc-item-num\">4.2&nbsp;&nbsp;</span>Plot the histogram of the sample means.</a></span></li><li><span><a href=\"#Calculate-the-mean-and-standard-deviation-of-all-samples-combined.\" data-toc-modified-id=\"Calculate-the-mean-and-standard-deviation-of-all-samples-combined.-4.3\"><span class=\"toc-item-num\">4.3&nbsp;&nbsp;</span>Calculate the mean and standard deviation of all samples combined.</a></span></li><li><span><a href=\"#Calculate-the-mean--and-standard-deviation-of-the-means.\" data-toc-modified-id=\"Calculate-the-mean--and-standard-deviation-of-the-means.-4.4\"><span class=\"toc-item-num\">4.4&nbsp;&nbsp;</span>Calculate the mean  and standard deviation of the means.</a></span></li></ul></li><li><span><a href=\"#Assess-the-validity-of-the-z-test.-\" data-toc-modified-id=\"Assess-the-validity-of-the-z-test.--5\"><span class=\"toc-item-num\">5&nbsp;&nbsp;</span>Assess the validity of the z-test. <a class=\"anchor\" id=\"part-4\"></a></a></span><ul class=\"toc-item\"><li><span><a href=\"#Create-a-function-to-calculate-z-statistics.\" data-toc-modified-id=\"Create-a-function-to-calculate-z-statistics.-5.1\"><span class=\"toc-item-num\">5.1&nbsp;&nbsp;</span>Create a function to calculate z-statistics.</a></span></li><li><span><a href=\"#Calculate-the-z-statistic-for-each-sample-distribution.\" data-toc-modified-id=\"Calculate-the-z-statistic-for-each-sample-distribution.-5.2\"><span class=\"toc-item-num\">5.2&nbsp;&nbsp;</span>Calculate the z-statistic for each sample distribution.</a></span></li><li><span><a href=\"#Calculate-the-mean-and-standard-deviation-of-the-z-statistics.\" data-toc-modified-id=\"Calculate-the-mean-and-standard-deviation-of-the-z-statistics.-5.3\"><span class=\"toc-item-num\">5.3&nbsp;&nbsp;</span>Calculate the mean and standard deviation of the z-statistics.</a></span></li><li><span><a href=\"#Plot-the-distribution-of-z-statistics.\" data-toc-modified-id=\"Plot-the-distribution-of-z-statistics.-5.4\"><span class=\"toc-item-num\">5.4&nbsp;&nbsp;</span>Plot the distribution of z-statistics.</a></span></li><li><span><a href=\"#Plot-a-Gaussian-distribution-against-the-distribution-of-z-statistics.\" data-toc-modified-id=\"Plot-a-Gaussian-distribution-against-the-distribution-of-z-statistics.-5.5\"><span class=\"toc-item-num\">5.5&nbsp;&nbsp;</span>Plot a Gaussian distribution against the distribution of z-statistics.</a></span></li></ul></li><li><span><a href=\"#Fit-z-statistics-to-a-Gaussian-model-and-assess-goodness-of-fit.-\" data-toc-modified-id=\"Fit-z-statistics-to-a-Gaussian-model-and-assess-goodness-of-fit.--6\"><span class=\"toc-item-num\">6&nbsp;&nbsp;</span>Fit z-statistics to a Gaussian model and assess goodness of fit. <a class=\"anchor\" id=\"part-5\"></a></a></span><ul class=\"toc-item\"><li><span><a href=\"#Fit-the-z-statistics-with-a-Gaussian-model-and-assess-the-goodness-of-fit-with-a-KS-test.\" data-toc-modified-id=\"Fit-the-z-statistics-with-a-Gaussian-model-and-assess-the-goodness-of-fit-with-a-KS-test.-6.1\"><span class=\"toc-item-num\">6.1&nbsp;&nbsp;</span>Fit the z-statistics with a Gaussian model and assess the goodness of fit with a KS test.</a></span></li></ul></li></ul></div>"
   ]
  },
  {
   "cell_type": "markdown",
   "metadata": {},
   "source": [
    "# HW5 Assignment 1\n",
    "**NetID:** sac820@nyu.edu"
   ]
  },
  {
   "cell_type": "markdown",
   "metadata": {
    "heading_collapsed": true
   },
   "source": [
    "## Setup Notebook. <a class=\"anchor\" id=\"part-0\"></a>"
   ]
  },
  {
   "cell_type": "code",
   "execution_count": 1,
   "metadata": {
    "hidden": true
   },
   "outputs": [],
   "source": [
    "from __future__ import print_function, division\n",
    "\n",
    "import pandas as pd\n",
    "import numpy as np\n",
    "import scipy.stats\n",
    "import matplotlib\n",
    "import matplotlib.pyplot as plt\n",
    "#print(plt.style.available)\n",
    "plt.style.use('classic')\n",
    "\n",
    "%matplotlib inline\n",
    "\n",
    "#This allows me to use LaTeX in the plot labels and titles\n",
    "from matplotlib import rc\n",
    "rc('font',**{'family':'sans-serif','sans-serif':['Helvetica']})\n",
    "## for Palatino and other serif fonts use:\n",
    "#rc('font',**{'family':'serif','serif':['Palatino']})\n",
    "rc('text', usetex=True)"
   ]
  },
  {
   "cell_type": "markdown",
   "metadata": {
    "heading_collapsed": true
   },
   "source": [
    "## Create one sample from $\\chi^2$ Distribution to test it out. <a class=\"anchor\" id=\"part-1\"></a>"
   ]
  },
  {
   "cell_type": "markdown",
   "metadata": {
    "heading_collapsed": true,
    "hidden": true
   },
   "source": [
    "### Seed the pseudo-random number generator for reproducibility."
   ]
  },
  {
   "cell_type": "code",
   "execution_count": 2,
   "metadata": {
    "hidden": true
   },
   "outputs": [],
   "source": [
    "np.random.seed(888)"
   ]
  },
  {
   "cell_type": "markdown",
   "metadata": {
    "heading_collapsed": true,
    "hidden": true
   },
   "source": [
    "### Create a sample from a $\\chi^2$ distribution. "
   ]
  },
  {
   "cell_type": "code",
   "execution_count": 6,
   "metadata": {
    "hidden": true
   },
   "outputs": [],
   "source": [
    "def makeChiDistribution(df, size, loc):\n",
    "    '''\n",
    "    Create a chi squared distribution\n",
    "    '''\n",
    "\n",
    "    degreeFreedom = df\n",
    "    sampleSize = size\n",
    "    location = loc\n",
    "\n",
    "    chiDistribution = scipy.stats.chi2.rvs(degreeFreedom, loc=location, scale=100, size=sampleSize)\n",
    "    return chiDistribution"
   ]
  },
  {
   "cell_type": "code",
   "execution_count": 7,
   "metadata": {
    "hidden": true
   },
   "outputs": [],
   "source": [
    "chiDistribution = makeChiDistribution(20, 1000, 100)"
   ]
  },
  {
   "cell_type": "markdown",
   "metadata": {
    "heading_collapsed": true,
    "hidden": true
   },
   "source": [
    "### Calculate and print the mean and standard deviation."
   ]
  },
  {
   "cell_type": "code",
   "execution_count": 8,
   "metadata": {
    "hidden": true,
    "scrolled": true
   },
   "outputs": [
    {
     "name": "stdout",
     "output_type": "stream",
     "text": [
      "Sample mean: 2128.527383\n",
      "Sample standard deviation: 630.238189\n"
     ]
    }
   ],
   "source": [
    "print('Sample mean: {a:5F}'.format(a = chiDistribution.mean()))\n",
    "print('Sample standard deviation: {a:5F}'.format(a = chiDistribution.std()))"
   ]
  },
  {
   "cell_type": "markdown",
   "metadata": {
    "heading_collapsed": true,
    "hidden": true
   },
   "source": [
    "### Plot a histogram to see whether or not it looks like a $\\chi^2$ distribution."
   ]
  },
  {
   "cell_type": "code",
   "execution_count": 9,
   "metadata": {
    "hidden": true
   },
   "outputs": [
    {
     "data": {
      "image/png": "[encoded data removed]",
      "text/plain": [
       "<matplotlib.figure.Figure at 0x7f8c1b219950>"
      ]
     },
     "metadata": {},
     "output_type": "display_data"
    }
   ],
   "source": [
    "plt.figure\n",
    "plt.hist(chiDistribution, 100)\n",
    "plt.xlabel('Sample')\n",
    "plt.ylabel('Frequency')\n",
    "plt.title('Chi-Squared Distribution Histogram\\n\\small{Sample of 10,000 with 5 Degrees of Freedom}');"
   ]
  },
  {
   "cell_type": "markdown",
   "metadata": {
    "hidden": true
   },
   "source": [
    "**Figure 1: As we push a $\\chi^2$ distribution rightward, it begins to look more Gaussian.**"
   ]
  },
  {
   "cell_type": "markdown",
   "metadata": {
    "heading_collapsed": true
   },
   "source": [
    "## Create 100 samples from Chi Squared Distribution. <a class=\"anchor\" id=\"part-2\"></a>"
   ]
  },
  {
   "cell_type": "markdown",
   "metadata": {
    "heading_collapsed": true,
    "hidden": true
   },
   "source": [
    "### Define an empty numpy array of dimensions (100, 1000) to fill with the samples. "
   ]
  },
  {
   "cell_type": "code",
   "execution_count": 10,
   "metadata": {
    "hidden": true
   },
   "outputs": [],
   "source": [
    "chiDistributions = np.zeros((100, 1000))"
   ]
  },
  {
   "cell_type": "markdown",
   "metadata": {
    "heading_collapsed": true,
    "hidden": true
   },
   "source": [
    "### Make 100 sample distributions each with a sample size of 1,000."
   ]
  },
  {
   "cell_type": "code",
   "execution_count": 14,
   "metadata": {
    "hidden": true
   },
   "outputs": [],
   "source": [
    "for i in range(0,100):\n",
    "    chiDistributions[i] = makeChiDistribution(20, 1000, 100)"
   ]
  },
  {
   "cell_type": "markdown",
   "metadata": {
    "heading_collapsed": true,
    "hidden": true
   },
   "source": [
    "### Plot all the sample distributions."
   ]
  },
  {
   "cell_type": "code",
   "execution_count": 13,
   "metadata": {
    "hidden": true,
    "scrolled": true
   },
   "outputs": [
    {
     "name": "stderr",
     "output_type": "stream",
     "text": [
      "/usr/local/lib/python2.7/dist-packages/matplotlib/axes/_axes.py:6097: UserWarning: 2D hist input should be nsamples x nvariables;\n",
      " this looks transposed (shape is 100 x 1000)\n",
      "  '(shape is %d x %d)' % inp.shape[::-1])\n"
     ]
    },
    {
     "data": {
      "image/png": "[encoded data removed]",
      "text/plain": [
       "<matplotlib.figure.Figure at 0x7f8c3ee69210>"
      ]
     },
     "metadata": {},
     "output_type": "display_data"
    }
   ],
   "source": [
    "plt.figure\n",
    "plt.hist(chiDistributions, 50)\n",
    "plt.xlabel('Sample')\n",
    "plt.ylabel('Frequency')\n",
    "plt.title('Chi-Squared Distribution Histogram\\n\\small{100 Samples of Size 1000 with 20 Degrees of Freedom}');"
   ]
  },
  {
   "cell_type": "markdown",
   "metadata": {
    "hidden": true
   },
   "source": [
    "**Figure 2: With even more distributions, we see the rightward pushed $\\chi^2$ as almost Gaussian**"
   ]
  },
  {
   "cell_type": "markdown",
   "metadata": {
    "heading_collapsed": true,
    "hidden": true
   },
   "source": [
    "### Plot one of the samples."
   ]
  },
  {
   "cell_type": "code",
   "execution_count": 30,
   "metadata": {
    "hidden": true,
    "scrolled": true
   },
   "outputs": [
    {
     "data": {
      "image/png": "[encoded data removed]",
      "text/plain": [
       "<matplotlib.figure.Figure at 0x150299780>"
      ]
     },
     "metadata": {},
     "output_type": "display_data"
    }
   ],
   "source": [
    "plt.figure\n",
    "plt.hist(chiDistributions[5], 50)\n",
    "plt.xlabel('Sample')\n",
    "plt.ylabel('Frequency')\n",
    "plt.title('Chi-Squared Distribution Histogram\\n\\small{1 Sample of Size 1000 with 20 Degrees of Freedom}');"
   ]
  },
  {
   "cell_type": "markdown",
   "metadata": {
    "hidden": true
   },
   "source": [
    "**Figure 3: We still see the $\\chi^2$ as almost Gaussian.**"
   ]
  },
  {
   "cell_type": "markdown",
   "metadata": {
    "heading_collapsed": true
   },
   "source": [
    "## Calculate the mean for each sample. <a class=\"anchor\" id=\"part-3\"></a>"
   ]
  },
  {
   "cell_type": "markdown",
   "metadata": {
    "heading_collapsed": true,
    "hidden": true
   },
   "source": [
    "### Calculate the mean for each of the 100 distributions. "
   ]
  },
  {
   "cell_type": "code",
   "execution_count": 15,
   "metadata": {
    "hidden": true
   },
   "outputs": [],
   "source": [
    "distributionMeans = np.zeros(100)\n",
    "\n",
    "for i in range(0,100):\n",
    "    distributionMeans[i] = chiDistributions[i].mean()"
   ]
  },
  {
   "cell_type": "markdown",
   "metadata": {
    "heading_collapsed": true,
    "hidden": true
   },
   "source": [
    "### Plot the histogram of the sample means."
   ]
  },
  {
   "cell_type": "code",
   "execution_count": 16,
   "metadata": {
    "hidden": true,
    "scrolled": true
   },
   "outputs": [
    {
     "data": {
      "image/png": "[encoded data removed]",
      "text/plain": [
       "<matplotlib.figure.Figure at 0x7f8c3ed0d190>"
      ]
     },
     "metadata": {},
     "output_type": "display_data"
    }
   ],
   "source": [
    "plt.figure\n",
    "plt.hist(distributionMeans)\n",
    "plt.xlabel('Sample Mean')\n",
    "plt.ylabel('Frequency')\n",
    "plt.title('Chi-Squared Distribution Sample Means');"
   ]
  },
  {
   "cell_type": "markdown",
   "metadata": {
    "hidden": true
   },
   "source": [
    "**Figure 4: The distribution of sample means is somewhat normal looking.**"
   ]
  },
  {
   "cell_type": "markdown",
   "metadata": {
    "heading_collapsed": true,
    "hidden": true
   },
   "source": [
    "### Calculate the mean and standard deviation of all samples combined."
   ]
  },
  {
   "cell_type": "code",
   "execution_count": 18,
   "metadata": {
    "hidden": true
   },
   "outputs": [],
   "source": [
    "totalMean = chiDistributions.mean()\n",
    "totalSTD = chiDistributions.std()"
   ]
  },
  {
   "cell_type": "code",
   "execution_count": 19,
   "metadata": {
    "hidden": true
   },
   "outputs": [
    {
     "name": "stdout",
     "output_type": "stream",
     "text": [
      "2099.39799677 631.164432757\n"
     ]
    }
   ],
   "source": [
    "print(totalMean, totalSTD)"
   ]
  },
  {
   "cell_type": "markdown",
   "metadata": {
    "heading_collapsed": true,
    "hidden": true
   },
   "source": [
    "### Calculate the mean  and standard deviation of the means."
   ]
  },
  {
   "cell_type": "code",
   "execution_count": 20,
   "metadata": {
    "hidden": true
   },
   "outputs": [],
   "source": [
    "samplesMean = distributionMeans.mean()\n",
    "samplesSTD = distributionMeans.std()"
   ]
  },
  {
   "cell_type": "code",
   "execution_count": 21,
   "metadata": {
    "hidden": true
   },
   "outputs": [
    {
     "name": "stdout",
     "output_type": "stream",
     "text": [
      "2099.39799677 22.7047915763\n"
     ]
    }
   ],
   "source": [
    "print(samplesMean, samplesSTD)"
   ]
  },
  {
   "cell_type": "markdown",
   "metadata": {
    "heading_collapsed": true
   },
   "source": [
    "##  Assess the validity of the z-test. <a class=\"anchor\" id=\"part-4\"></a>"
   ]
  },
  {
   "cell_type": "markdown",
   "metadata": {
    "heading_collapsed": true,
    "hidden": true
   },
   "source": [
    "### Create a function to calculate z-statistics."
   ]
  },
  {
   "cell_type": "code",
   "execution_count": 24,
   "metadata": {
    "hidden": true
   },
   "outputs": [],
   "source": [
    "def calculateZ(distribution, mu, std):\n",
    "    z = ((mu - distribution.mean()) / (std) ) * np.sqrt(len(distribution))\n",
    "    return z"
   ]
  },
  {
   "cell_type": "markdown",
   "metadata": {
    "heading_collapsed": true,
    "hidden": true
   },
   "source": [
    "### Calculate the z-statistic for each sample distribution."
   ]
  },
  {
   "cell_type": "code",
   "execution_count": 22,
   "metadata": {
    "hidden": true
   },
   "outputs": [],
   "source": [
    "#To calculate a Z-Statistic you must define the population mean and standard deviation\n",
    "#We took these values from the ones calculated of all distributions combined.\n",
    "mu = totalMean\n",
    "std = totalSTD"
   ]
  },
  {
   "cell_type": "code",
   "execution_count": 25,
   "metadata": {
    "hidden": true
   },
   "outputs": [],
   "source": [
    "zStatistics = np.zeros(100)\n",
    "\n",
    "for i in range(1,100):\n",
    "    zStatistics[i] = calculateZ(chiDistributions[i], mu, std)"
   ]
  },
  {
   "cell_type": "markdown",
   "metadata": {
    "heading_collapsed": true,
    "hidden": true
   },
   "source": [
    "### Calculate the mean and standard deviation of the z-statistics."
   ]
  },
  {
   "cell_type": "code",
   "execution_count": 32,
   "metadata": {
    "hidden": true,
    "scrolled": true
   },
   "outputs": [
    {
     "name": "stdout",
     "output_type": "stream",
     "text": [
      "Sample mean: 0.012307\n",
      "Sample standard deviation: 0.928054\n"
     ]
    }
   ],
   "source": [
    "print('Sample mean: {a:5F}'.format(a = zStatistics.mean()))\n",
    "print('Sample standard deviation: {a:5F}'.format(a = zStatistics.std()))"
   ]
  },
  {
   "cell_type": "markdown",
   "metadata": {
    "hidden": true
   },
   "source": [
    "You can see here that the mean and standard deviation of the distribution are roughly N(0,1), meaning they are roughly Gaussian."
   ]
  },
  {
   "cell_type": "markdown",
   "metadata": {
    "heading_collapsed": true,
    "hidden": true
   },
   "source": [
    "### Plot the distribution of z-statistics."
   ]
  },
  {
   "cell_type": "code",
   "execution_count": 26,
   "metadata": {
    "hidden": true
   },
   "outputs": [
    {
     "data": {
      "image/png": "[encoded data removed]",
      "text/plain": [
       "<matplotlib.figure.Figure at 0x7f8c58136210>"
      ]
     },
     "metadata": {},
     "output_type": "display_data"
    }
   ],
   "source": [
    "plt.figure\n",
    "plt.hist(zStatistics)\n",
    "plt.xlabel('Sample Z Statistic')\n",
    "plt.ylabel('Frequency')\n",
    "plt.title('Distribution of Z Statistics');"
   ]
  },
  {
   "cell_type": "markdown",
   "metadata": {
    "hidden": true
   },
   "source": [
    "**Figure 5: The distribution of the z-statistics looks roughly Gaussian.**"
   ]
  },
  {
   "cell_type": "markdown",
   "metadata": {
    "heading_collapsed": true,
    "hidden": true
   },
   "source": [
    "### Plot a Gaussian distribution against the distribution of z-statistics."
   ]
  },
  {
   "cell_type": "code",
   "execution_count": 27,
   "metadata": {
    "hidden": true
   },
   "outputs": [],
   "source": [
    "#Create a Gaussian distribution with which to compare\n",
    "gaussDistribution = np.random.normal(0, 1, 100)"
   ]
  },
  {
   "cell_type": "code",
   "execution_count": 30,
   "metadata": {
    "hidden": true
   },
   "outputs": [
    {
     "data": {
      "image/png": "[encoded data removed]",
      "text/plain": [
       "<matplotlib.figure.Figure at 0x7f8c18f4dd90>"
      ]
     },
     "metadata": {},
     "output_type": "display_data"
    }
   ],
   "source": [
    "plt.figure\n",
    "plt.hist(zStatistics, alpha=0.5, label='Distribution of Z-scores')\n",
    "plt.hist(gaussDistribution, alpha=0.5, label='Gaussian Distribution')\n",
    "plt.legend()\n",
    "plt.xlabel('Standard Deviation')\n",
    "plt.ylabel('z Statistic')\n",
    "plt.title('Distributions of Z Statistics and Gaussian');"
   ]
  },
  {
   "cell_type": "markdown",
   "metadata": {
    "hidden": true
   },
   "source": [
    "**Figure 6: The two distributions roughly look similar.**"
   ]
  },
  {
   "cell_type": "markdown",
   "metadata": {
    "heading_collapsed": true
   },
   "source": [
    "## Fit z-statistics to a Gaussian model and assess goodness of fit. <a class=\"anchor\" id=\"part-5\"></a>"
   ]
  },
  {
   "cell_type": "markdown",
   "metadata": {
    "heading_collapsed": true,
    "hidden": true
   },
   "source": [
    "###  Fit the z-statistics with a Gaussian model and assess the goodness of fit with a KS test."
   ]
  },
  {
   "cell_type": "code",
   "execution_count": 32,
   "metadata": {
    "hidden": true
   },
   "outputs": [
    {
     "data": {
      "text/plain": [
       "KstestResult(statistic=0.071985005499652505, pvalue=0.67697713623384836)"
      ]
     },
     "execution_count": 32,
     "metadata": {},
     "output_type": "execute_result"
    }
   ],
   "source": [
    "scipy.stats.kstest(zStatistics, \"norm\")"
   ]
  },
  {
   "cell_type": "markdown",
   "metadata": {
    "hidden": true
   },
   "source": [
    "The p-value is well above our threshhold of 0.05 meaning that we cannot reject the null hypothesis that the z-statistics distribution is Gaussian. "
   ]
  }
 ],
 "metadata": {
  "kernelspec": {
   "display_name": "Python 2",
   "language": "python",
   "name": "python2"
  },
  "language_info": {
   "codemirror_mode": {
    "name": "ipython",
    "version": 2
   },
   "file_extension": ".py",
   "mimetype": "text/x-python",
   "name": "python",
   "nbconvert_exporter": "python",
   "pygments_lexer": "ipython2",
   "version": "2.7.14"
  },
  "toc": {
   "nav_menu": {},
   "number_sections": true,
   "sideBar": true,
   "skip_h1_title": true,
   "toc_cell": true,
   "toc_position": {
    "height": "913px",
    "left": "0px",
    "right": "1176px",
    "top": "52px",
    "width": "362px"
   },
   "toc_section_display": "block",
   "toc_window_display": true
  }
 },
 "nbformat": 4,
 "nbformat_minor": 2
}
